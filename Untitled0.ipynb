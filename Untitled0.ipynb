{
  "nbformat": 4,
  "nbformat_minor": 0,
  "metadata": {
    "colab": {
      "provenance": [],
      "authorship_tag": "ABX9TyMvWSfTumyULtFsRkdUgx2X",
      "include_colab_link": true
    },
    "kernelspec": {
      "name": "python3",
      "display_name": "Python 3"
    },
    "language_info": {
      "name": "python"
    }
  },
  "cells": [
    {
      "cell_type": "markdown",
      "metadata": {
        "id": "view-in-github",
        "colab_type": "text"
      },
      "source": [
        "<a href=\"https://colab.research.google.com/github/Farwa-Kanwal-123/1st-Hackathone/blob/main/Untitled0.ipynb\" target=\"_parent\"><img src=\"https://colab.research.google.com/assets/colab-badge.svg\" alt=\"Open In Colab\"/></a>"
      ]
    },
    {
      "cell_type": "code",
      "source": [
        "print(\"hello farry\")"
      ],
      "metadata": {
        "colab": {
          "base_uri": "https://localhost:8080/"
        },
        "id": "r7q3pvtwMHvu",
        "outputId": "7a05a3ae-e60b-403f-c784-b4dda8a38fdd"
      },
      "execution_count": 6,
      "outputs": [
        {
          "output_type": "stream",
          "name": "stdout",
          "text": [
            "hello farry\n"
          ]
        }
      ]
    },
    {
      "cell_type": "code",
      "source": [
        "new_goal=\"learn AI\"\n",
        "print(new_goal)"
      ],
      "metadata": {
        "colab": {
          "base_uri": "https://localhost:8080/"
        },
        "id": "7s807npzMRyi",
        "outputId": "cf1737e7-b811-4ec7-afc1-caab61ff0628"
      },
      "execution_count": 2,
      "outputs": [
        {
          "output_type": "stream",
          "name": "stdout",
          "text": [
            "learn AI\n"
          ]
        }
      ]
    },
    {
      "cell_type": "code",
      "source": [
        "name = input(\"enter your name\")\n",
        "print(\"hello I am\"+\"\"+ name)"
      ],
      "metadata": {
        "colab": {
          "base_uri": "https://localhost:8080/"
        },
        "id": "TYn4TTM_MuA4",
        "outputId": "a7d1be72-c0f0-45c6-9c69-5da49d28f6f2"
      },
      "execution_count": 5,
      "outputs": [
        {
          "output_type": "stream",
          "name": "stdout",
          "text": [
            "enter your namefarwa\n",
            "hello I amfarwa\n"
          ]
        }
      ]
    },
    {
      "cell_type": "code",
      "source": [
        "temprature = int(input(\"enter the temprature!\"))\n",
        "if temprature >= 30:\n",
        "   print(\"its too hot!\")\n",
        "elif temprature <= 15:\n",
        "   print(\"its too cool!\")\n",
        "else:\n",
        "   print(\"weather is moderate!\")"
      ],
      "metadata": {
        "colab": {
          "base_uri": "https://localhost:8080/"
        },
        "id": "96yJo7MdOkpE",
        "outputId": "4dbadd4b-d5d7-4007-eab3-4795576ce99f"
      },
      "execution_count": 9,
      "outputs": [
        {
          "output_type": "stream",
          "name": "stdout",
          "text": [
            "enter the temprature!11\n",
            "its too cool!\n"
          ]
        }
      ]
    },
    {
      "cell_type": "code",
      "source": [
        "for numb in range(1, 11):\n",
        "  print(\"number\" ,numb)\n",
        ""
      ],
      "metadata": {
        "colab": {
          "base_uri": "https://localhost:8080/"
        },
        "id": "XZ7WQgGtSr4x",
        "outputId": "bdc89f2d-4490-4022-81f1-28a32a1d3271"
      },
      "execution_count": 1,
      "outputs": [
        {
          "output_type": "stream",
          "name": "stdout",
          "text": [
            "number 1\n",
            "number 2\n",
            "number 3\n",
            "number 4\n",
            "number 5\n",
            "number 6\n",
            "number 7\n",
            "number 8\n",
            "number 9\n",
            "number 10\n"
          ]
        }
      ]
    },
    {
      "cell_type": "code",
      "source": [
        "num = 1\n",
        "while num <= 5:\n",
        "  print(\"python is awsome!\")\n",
        "  num += 1"
      ],
      "metadata": {
        "colab": {
          "base_uri": "https://localhost:8080/"
        },
        "id": "kMxjnwvShTQc",
        "outputId": "67357246-22fd-4b8a-c500-9c15b65f29dc"
      },
      "execution_count": 5,
      "outputs": [
        {
          "output_type": "stream",
          "name": "stdout",
          "text": [
            "python is awsome!\n",
            "python is awsome!\n",
            "python is awsome!\n",
            "python is awsome!\n",
            "python is awsome!\n"
          ]
        }
      ]
    },
    {
      "cell_type": "code",
      "source": [
        "favColors = [\"red\", \"green\", \"yellow\", \"orange\", \"purple\"]\n",
        "\n",
        "print(favColors[2])\n",
        "print(favColors[4])"
      ],
      "metadata": {
        "colab": {
          "base_uri": "https://localhost:8080/"
        },
        "id": "xie131qmiDj6",
        "outputId": "4a897c19-5eca-4749-e8bb-35bf7d83c529"
      },
      "execution_count": 9,
      "outputs": [
        {
          "output_type": "stream",
          "name": "stdout",
          "text": [
            "yellow\n",
            "purple\n"
          ]
        }
      ]
    },
    {
      "cell_type": "code",
      "source": [
        "favColors = [\"red\", \"green\", \"yellow\", \"orange\", \"purple\"]\n",
        "for favColor in favColors:\n",
        "  print(favColor)"
      ],
      "metadata": {
        "colab": {
          "base_uri": "https://localhost:8080/"
        },
        "id": "EtUanQGwrL6x",
        "outputId": "3e3b5e7d-0e1d-4d3f-8a5e-4f55a7caedac"
      },
      "execution_count": 10,
      "outputs": [
        {
          "output_type": "stream",
          "name": "stdout",
          "text": [
            "red\n",
            "green\n",
            "yellow\n",
            "orange\n",
            "purple\n"
          ]
        }
      ]
    },
    {
      "cell_type": "code",
      "source": [],
      "metadata": {
        "id": "spqo-3Zvr5TH"
      },
      "execution_count": null,
      "outputs": []
    }
  ]
}